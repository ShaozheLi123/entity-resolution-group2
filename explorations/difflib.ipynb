{
 "cells": [
  {
   "cell_type": "code",
   "execution_count": 9,
   "metadata": {},
   "outputs": [],
   "source": [
    "import pandas as pd\n",
    "from difflib import SequenceMatcher"
   ]
  },
  {
   "cell_type": "code",
   "execution_count": 10,
   "metadata": {},
   "outputs": [],
   "source": [
    "def similar(a, b):\n",
    "    return SequenceMatcher(None, a, b).ratio()"
   ]
  },
  {
   "cell_type": "code",
   "execution_count": 11,
   "metadata": {},
   "outputs": [],
   "source": [
    "left_data_path = '../data/left_dataset.csv'\n",
    "right_data_path = '../data/right_dataset.csv'\n",
    "left_data = pd.read_csv(left_data_path)\n",
    "right_data = pd.read_csv(right_data_path)"
   ]
  },
  {
   "cell_type": "code",
   "execution_count": 12,
   "metadata": {},
   "outputs": [
    {
     "name": "stdout",
     "output_type": "stream",
     "text": [
      "Missing values in left_df:\n",
      "entity_id      0\n",
      "name           0\n",
      "address        0\n",
      "city           0\n",
      "state          0\n",
      "postal_code    0\n",
      "categories     0\n",
      "dtype: int64\n",
      "Missing values in right_data:\n",
      "business_id    0\n",
      "name           0\n",
      "address        0\n",
      "city           0\n",
      "state          0\n",
      "zip_code       0\n",
      "size           0\n",
      "dtype: int64\n"
     ]
    }
   ],
   "source": [
    "left_data.dropna(inplace=True)\n",
    "right_data.dropna(inplace=True)\n",
    "print(\"Missing values in left_df:\")\n",
    "print(left_data.isnull().sum())\n",
    "\n",
    "print(\"Missing values in right_data:\")\n",
    "print(right_data.isnull().sum())"
   ]
  },
  {
   "cell_type": "code",
   "execution_count": 13,
   "metadata": {},
   "outputs": [],
   "source": [
    "\n",
    "#change all name and address to string and be lowercase\n",
    "left_data['name'] = left_data['name'].astype(str).str.lower()\n",
    "left_data['address'] = left_data['address'].astype(str).str.lower()\n",
    "right_data['name'] = right_data['name'].astype(str).str.lower()\n",
    "right_data['address'] = right_data['address'].astype(str).str.lower()\n",
    "#remove punctuation\n",
    "left_data['postal_code'] = left_data['postal_code'].astype(str).apply(lambda x: x.split('.')[0])\n",
    "right_data['zip_code'] = right_data['zip_code'].astype(str).apply(lambda x: x.split('-')[0])\n"
   ]
  },
  {
   "cell_type": "code",
   "execution_count": 14,
   "metadata": {},
   "outputs": [],
   "source": [
    "left_data['block_key'] = left_data['name'].str[:2] + left_data['address'].str[0] + left_data['state'] + left_data['postal_code'].str[:3]\n",
    "right_data['block_key'] = right_data['name'].str[:2] + right_data['address'].str[0] + right_data['state'] + right_data['zip_code'].str[:3]"
   ]
  },
  {
   "cell_type": "code",
   "execution_count": 15,
   "metadata": {},
   "outputs": [],
   "source": [
    "merged = pd.merge(left_data, right_data, on='block_key', how='inner', suffixes=('_left', '_right'))"
   ]
  },
  {
   "cell_type": "code",
   "execution_count": 16,
   "metadata": {},
   "outputs": [
    {
     "data": {
      "text/html": [
       "<div>\n",
       "<style scoped>\n",
       "    .dataframe tbody tr th:only-of-type {\n",
       "        vertical-align: middle;\n",
       "    }\n",
       "\n",
       "    .dataframe tbody tr th {\n",
       "        vertical-align: top;\n",
       "    }\n",
       "\n",
       "    .dataframe thead th {\n",
       "        text-align: right;\n",
       "    }\n",
       "</style>\n",
       "<table border=\"1\" class=\"dataframe\">\n",
       "  <thead>\n",
       "    <tr style=\"text-align: right;\">\n",
       "      <th></th>\n",
       "      <th>entity_id</th>\n",
       "      <th>name_left</th>\n",
       "      <th>address_left</th>\n",
       "      <th>city_left</th>\n",
       "      <th>state_left</th>\n",
       "      <th>postal_code</th>\n",
       "      <th>categories</th>\n",
       "      <th>block_key</th>\n",
       "      <th>business_id</th>\n",
       "      <th>name_right</th>\n",
       "      <th>address_right</th>\n",
       "      <th>city_right</th>\n",
       "      <th>state_right</th>\n",
       "      <th>zip_code</th>\n",
       "      <th>size</th>\n",
       "    </tr>\n",
       "  </thead>\n",
       "  <tbody>\n",
       "    <tr>\n",
       "      <th>0</th>\n",
       "      <td>1</td>\n",
       "      <td>the ups store</td>\n",
       "      <td>87 grasso plaza shopping center</td>\n",
       "      <td>Affton</td>\n",
       "      <td>MO</td>\n",
       "      <td>63123</td>\n",
       "      <td>Shipping Centers, Local Services, Notaries, Ma...</td>\n",
       "      <td>th8MO631</td>\n",
       "      <td>37027</td>\n",
       "      <td>the art of entertaining inc</td>\n",
       "      <td>8796 big bend blvd</td>\n",
       "      <td>SAINT LOUIS</td>\n",
       "      <td>MO</td>\n",
       "      <td>63119</td>\n",
       "      <td>25.0</td>\n",
       "    </tr>\n",
       "    <tr>\n",
       "      <th>1</th>\n",
       "      <td>1</td>\n",
       "      <td>the ups store</td>\n",
       "      <td>87 grasso plaza shopping center</td>\n",
       "      <td>Affton</td>\n",
       "      <td>MO</td>\n",
       "      <td>63123</td>\n",
       "      <td>Shipping Centers, Local Services, Notaries, Ma...</td>\n",
       "      <td>th8MO631</td>\n",
       "      <td>37156</td>\n",
       "      <td>the kohn partnership, llp</td>\n",
       "      <td>8251 maryland ave suite 108</td>\n",
       "      <td>SAINT LOUIS</td>\n",
       "      <td>MO</td>\n",
       "      <td>63105</td>\n",
       "      <td>9.0</td>\n",
       "    </tr>\n",
       "    <tr>\n",
       "      <th>2</th>\n",
       "      <td>1</td>\n",
       "      <td>the ups store</td>\n",
       "      <td>87 grasso plaza shopping center</td>\n",
       "      <td>Affton</td>\n",
       "      <td>MO</td>\n",
       "      <td>63123</td>\n",
       "      <td>Shipping Centers, Local Services, Notaries, Ma...</td>\n",
       "      <td>th8MO631</td>\n",
       "      <td>37159</td>\n",
       "      <td>the schechter law firm pc</td>\n",
       "      <td>8000 maryland ave ste 950</td>\n",
       "      <td>Saint Louis</td>\n",
       "      <td>MO</td>\n",
       "      <td>63105</td>\n",
       "      <td>9.0</td>\n",
       "    </tr>\n",
       "    <tr>\n",
       "      <th>3</th>\n",
       "      <td>1</td>\n",
       "      <td>the ups store</td>\n",
       "      <td>87 grasso plaza shopping center</td>\n",
       "      <td>Affton</td>\n",
       "      <td>MO</td>\n",
       "      <td>63123</td>\n",
       "      <td>Shipping Centers, Local Services, Notaries, Ma...</td>\n",
       "      <td>th8MO631</td>\n",
       "      <td>37162</td>\n",
       "      <td>the schechter law firm, p.c.</td>\n",
       "      <td>8000 maryland suite 950</td>\n",
       "      <td>ST LOUIS</td>\n",
       "      <td>MO</td>\n",
       "      <td>63105</td>\n",
       "      <td>9.0</td>\n",
       "    </tr>\n",
       "    <tr>\n",
       "      <th>4</th>\n",
       "      <td>1</td>\n",
       "      <td>the ups store</td>\n",
       "      <td>87 grasso plaza shopping center</td>\n",
       "      <td>Affton</td>\n",
       "      <td>MO</td>\n",
       "      <td>63123</td>\n",
       "      <td>Shipping Centers, Local Services, Notaries, Ma...</td>\n",
       "      <td>th8MO631</td>\n",
       "      <td>37221</td>\n",
       "      <td>thomas l. dowell &amp; associates, inc.</td>\n",
       "      <td>8460 watson rd suite 141</td>\n",
       "      <td>SAINT LOUIS</td>\n",
       "      <td>MO</td>\n",
       "      <td>63119</td>\n",
       "      <td>7.0</td>\n",
       "    </tr>\n",
       "  </tbody>\n",
       "</table>\n",
       "</div>"
      ],
      "text/plain": [
       "   entity_id      name_left                     address_left city_left  \\\n",
       "0          1  the ups store  87 grasso plaza shopping center    Affton   \n",
       "1          1  the ups store  87 grasso plaza shopping center    Affton   \n",
       "2          1  the ups store  87 grasso plaza shopping center    Affton   \n",
       "3          1  the ups store  87 grasso plaza shopping center    Affton   \n",
       "4          1  the ups store  87 grasso plaza shopping center    Affton   \n",
       "\n",
       "  state_left postal_code                                         categories  \\\n",
       "0         MO       63123  Shipping Centers, Local Services, Notaries, Ma...   \n",
       "1         MO       63123  Shipping Centers, Local Services, Notaries, Ma...   \n",
       "2         MO       63123  Shipping Centers, Local Services, Notaries, Ma...   \n",
       "3         MO       63123  Shipping Centers, Local Services, Notaries, Ma...   \n",
       "4         MO       63123  Shipping Centers, Local Services, Notaries, Ma...   \n",
       "\n",
       "  block_key  business_id                           name_right  \\\n",
       "0  th8MO631        37027          the art of entertaining inc   \n",
       "1  th8MO631        37156            the kohn partnership, llp   \n",
       "2  th8MO631        37159            the schechter law firm pc   \n",
       "3  th8MO631        37162         the schechter law firm, p.c.   \n",
       "4  th8MO631        37221  thomas l. dowell & associates, inc.   \n",
       "\n",
       "                 address_right   city_right state_right zip_code  size  \n",
       "0           8796 big bend blvd  SAINT LOUIS          MO    63119  25.0  \n",
       "1  8251 maryland ave suite 108  SAINT LOUIS          MO    63105   9.0  \n",
       "2    8000 maryland ave ste 950  Saint Louis          MO    63105   9.0  \n",
       "3      8000 maryland suite 950     ST LOUIS          MO    63105   9.0  \n",
       "4     8460 watson rd suite 141  SAINT LOUIS          MO    63119   7.0  "
      ]
     },
     "execution_count": 16,
     "metadata": {},
     "output_type": "execute_result"
    }
   ],
   "source": [
    "merged.head()"
   ]
  },
  {
   "cell_type": "code",
   "execution_count": 17,
   "metadata": {},
   "outputs": [],
   "source": [
    "merged['name_similarity'] = merged.apply(lambda x: similar(x['name_left'], x['name_right']), axis=1)\n",
    "merged['address_similarity'] = merged.apply(lambda x: similar(x['address_left'], x['address_right']), axis=1)"
   ]
  },
  {
   "cell_type": "code",
   "execution_count": 18,
   "metadata": {},
   "outputs": [
    {
     "name": "stdout",
     "output_type": "stream",
     "text": [
      "         entity_id  business_id  confidence\n",
      "645          82635        50523    0.941860\n",
      "646          82635        50540    0.931818\n",
      "648          89051        37027    0.960000\n",
      "799          24054        78876    0.916667\n",
      "895          14584        39665    0.867347\n",
      "...            ...          ...         ...\n",
      "1133852      93910        18515    0.833333\n",
      "1133858      94035        72787    0.944444\n",
      "1133862      94065        81979    0.865385\n",
      "1133865      94131        27269    0.925000\n",
      "1133896      94546        83310    0.937500\n",
      "\n",
      "[7534 rows x 3 columns]\n"
     ]
    }
   ],
   "source": [
    "confidence = 0.5 * merged['name_similarity'] + 0.5 * merged['address_similarity']\n",
    "merged['confidence'] = confidence\n",
    "filtered_merged = merged[merged['confidence'] > 0.8]\n",
    "print(filtered_merged[['entity_id', 'business_id', 'confidence']])\n"
   ]
  }
 ],
 "metadata": {
  "kernelspec": {
   "display_name": "base",
   "language": "python",
   "name": "python3"
  },
  "language_info": {
   "codemirror_mode": {
    "name": "ipython",
    "version": 3
   },
   "file_extension": ".py",
   "mimetype": "text/x-python",
   "name": "python",
   "nbconvert_exporter": "python",
   "pygments_lexer": "ipython3",
   "version": "3.9.12"
  }
 },
 "nbformat": 4,
 "nbformat_minor": 2
}
