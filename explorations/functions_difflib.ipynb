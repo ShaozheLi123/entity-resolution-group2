{
 "cells": [
  {
   "cell_type": "code",
   "execution_count": 1,
   "metadata": {},
   "outputs": [],
   "source": [
    "import pandas as pd\n",
    "from difflib import SequenceMatcher"
   ]
  },
  {
   "cell_type": "code",
   "execution_count": 2,
   "metadata": {},
   "outputs": [],
   "source": [
    "left_data_path = '../data/left_dataset.csv'\n",
    "right_data_path = '../data/right_dataset.csv'"
   ]
  },
  {
   "cell_type": "code",
   "execution_count": 3,
   "metadata": {},
   "outputs": [],
   "source": [
    "def similar(a, b):\n",
    "    return SequenceMatcher(None, a, b).ratio()"
   ]
  },
  {
   "cell_type": "code",
   "execution_count": 4,
   "metadata": {},
   "outputs": [],
   "source": [
    "def preprocess_data(left_data_path, right_data_path):\n",
    "    left_data = pd.read_csv(left_data_path)\n",
    "    right_data = pd.read_csv(right_data_path)\n",
    "    #change all name and address to string and be lowercase\n",
    "    left_data['name'] = left_data['name'].astype(str).str.lower()\n",
    "    left_data['address'] = left_data['address'].astype(str).str.lower()\n",
    "    right_data['name'] = right_data['name'].astype(str).str.lower()\n",
    "    right_data['address'] = right_data['address'].astype(str).str.lower()\n",
    "    #remove punctuation\n",
    "    left_data['postal_code'] = left_data['postal_code'].astype(str).apply(lambda x: x.split('.')[0])\n",
    "    right_data['zip_code'] = right_data['zip_code'].astype(str).apply(lambda x: x.split('-')[0])\n",
    "    left_data['block_key'] = left_data['name'].str[:2] + left_data['address'].str[0] + left_data['state'] + left_data['postal_code'].str[:3]\n",
    "    right_data['block_key'] = right_data['name'].str[:2] + right_data['address'].str[0] + right_data['state'] + right_data['zip_code'].str[:3]\n",
    "    return left_data, right_data"
   ]
  },
  {
   "cell_type": "code",
   "execution_count": 5,
   "metadata": {},
   "outputs": [],
   "source": [
    "def entity_resolution(left_data, right_data):\n",
    "    merged = pd.merge(left_data, right_data, on='block_key', how='inner', suffixes=('_left', '_right'))\n",
    "    merged['name_similarity'] = merged.apply(lambda x: similar(x['name_left'], x['name_right']), axis=1)\n",
    "    merged['address_similarity'] = merged.apply(lambda x: similar(x['address_left'], x['address_right']), axis=1)\n",
    "    confidence = 0.5 * merged['name_similarity'] + 0.5 * merged['address_similarity']\n",
    "    merged['confidence'] = confidence\n",
    "    return merged"
   ]
  },
  {
   "cell_type": "code",
   "execution_count": 6,
   "metadata": {},
   "outputs": [],
   "source": [
    "def filter_results(merged, threshold=0.8):\n",
    "    filtered_merged = merged[merged['confidence'] > threshold]\n",
    "    return filtered_merged[['entity_id', 'business_id', 'confidence']]"
   ]
  },
  {
   "cell_type": "code",
   "execution_count": 8,
   "metadata": {},
   "outputs": [],
   "source": [
    "def difflib(left_data_path, right_data_path):\n",
    "    left_data, right_data = preprocess_data(left_data_path, right_data_path)\n",
    "    merged = entity_resolution(left_data, right_data)\n",
    "    filtered_results = filter_results(merged)\n",
    "    print(filtered_results)"
   ]
  }
 ],
 "metadata": {
  "kernelspec": {
   "display_name": "base",
   "language": "python",
   "name": "python3"
  },
  "language_info": {
   "codemirror_mode": {
    "name": "ipython",
    "version": 3
   },
   "file_extension": ".py",
   "mimetype": "text/x-python",
   "name": "python",
   "nbconvert_exporter": "python",
   "pygments_lexer": "ipython3",
   "version": "3.9.12"
  }
 },
 "nbformat": 4,
 "nbformat_minor": 2
}
