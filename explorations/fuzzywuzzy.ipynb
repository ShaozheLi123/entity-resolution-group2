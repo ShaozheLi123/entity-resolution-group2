{
 "cells": [
  {
   "cell_type": "code",
   "execution_count": null,
   "metadata": {},
   "outputs": [],
   "source": [
    "!pip install fuzzywuzzy\n",
    "!pip install python-Levenshtein"
   ]
  },
  {
   "cell_type": "code",
   "execution_count": null,
   "metadata": {},
   "outputs": [],
   "source": [
    "import pandas as pd\n",
    "import os\n",
    "from fuzzywuzzy import fuzz\n",
    "from fuzzywuzzy import process"
   ]
  },
  {
   "cell_type": "code",
   "execution_count": null,
   "metadata": {},
   "outputs": [],
   "source": [
    "left_df = pd.read_csv('../data/left_dataset.csv')\n",
    "right_df = pd.read_csv('../data/right_dataset.csv')"
   ]
  },
  {
   "cell_type": "code",
   "execution_count": null,
   "metadata": {},
   "outputs": [],
   "source": [
    "def match_entities(left_df, right_df, threshold=80):\n",
    "    matches = []\n",
    "    # Convert all entries to strings and fill NaNs with empty strings\n",
    "    left_df = left_df.fillna('').astype(str)\n",
    "    right_df = right_df.fillna('').astype(str)\n",
    "\n",
    "    for i, left_row in left_df.iterrows():\n",
    "        for j, right_row in right_df.iterrows():\n",
    "            name_score = fuzz.ratio(left_row['name'], right_row['name'])\n",
    "            address_score = fuzz.ratio(left_row['address'], right_row['address'])\n",
    "            average_score = (name_score + address_score) / 2\n",
    "\n",
    "            if average_score >= threshold:\n",
    "                matches.append({\n",
    "                    'left_id': left_row['id'],\n",
    "                    'right_id': right_row['id'],\n",
    "                    'confidence': average_score\n",
    "                })\n",
    "    return pd.DataFrame(matches)"
   ]
  },
  {
   "cell_type": "code",
   "execution_count": null,
   "metadata": {},
   "outputs": [],
   "source": [
    "# results = match_entities(left_df, right_df, 80) "
   ]
  }
 ],
 "metadata": {
  "language_info": {
   "name": "python"
  }
 },
 "nbformat": 4,
 "nbformat_minor": 2
}
